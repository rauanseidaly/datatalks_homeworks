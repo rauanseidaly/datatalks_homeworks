{
  "nbformat": 4,
  "nbformat_minor": 0,
  "metadata": {
    "colab": {
      "provenance": []
    },
    "kernelspec": {
      "name": "python3",
      "display_name": "Python 3"
    },
    "language_info": {
      "name": "python"
    }
  },
  "cells": [
    {
      "cell_type": "code",
      "execution_count": 1,
      "metadata": {
        "id": "d--iEnbC9XMF"
      },
      "outputs": [],
      "source": [
        "import pandas as pd\n",
        "import numpy as np"
      ]
    },
    {
      "cell_type": "code",
      "source": [
        "data = pd.read_csv('bank-full.csv')"
      ],
      "metadata": {
        "id": "YO1MBGxF9hOa"
      },
      "execution_count": 7,
      "outputs": []
    },
    {
      "cell_type": "code",
      "source": [
        "import pandas as pd\n",
        "from sklearn.feature_selection import mutual_info_classif\n",
        "\n",
        "data_cleaned = data[\"age;\\\"job\\\";\\\"marital\\\";\\\"education\\\";\\\"default\\\";\\\"balance\\\";\\\"housing\\\";\\\"loan\\\";\\\"contact\\\";\\\"day\\\";\\\"month\\\";\\\"duration\\\";\\\"campaign\\\";\\\"pdays\\\";\\\"previous\\\";\\\"poutcome\\\";\\\"y\\\"\"].str.split(';', expand=True)\n",
        "\n",
        "data_cleaned.columns = [\"age\", \"job\", \"marital\", \"education\", \"default\", \"balance\", \"housing\", \"loan\", \"contact\", \"day\",\n",
        "                        \"month\", \"duration\", \"campaign\", \"pdays\", \"previous\", \"poutcome\", \"y\"]\n",
        "\n",
        "data_cleaned['education'] = data_cleaned['education'].str.replace('\"', '')\n",
        "\n",
        "# Question 1: Mode for the 'education' column\n",
        "education_mode = data_cleaned['education'].mode()[0]\n",
        "\n",
        "# Convert relevant columns to numeric\n",
        "data_cleaned['age'] = pd.to_numeric(data_cleaned['age'])\n",
        "data_cleaned['balance'] = pd.to_numeric(data_cleaned['balance'])\n",
        "data_cleaned['day'] = pd.to_numeric(data_cleaned['day'])\n",
        "data_cleaned['campaign'] = pd.to_numeric(data_cleaned['campaign'])\n",
        "data_cleaned['pdays'] = pd.to_numeric(data_cleaned['pdays'])\n",
        "data_cleaned['previous'] = pd.to_numeric(data_cleaned['previous'])\n",
        "\n",
        "# Question 2: Two features with the biggest correlation\n",
        "correlation_matrix = data_cleaned[['age', 'balance', 'day', 'campaign', 'pdays', 'previous']].corr()\n",
        "correlation_matrix_abs = correlation_matrix.abs()\n",
        "biggest_correlation = correlation_matrix_abs.unstack().sort_values(ascending=False).drop_duplicates().iloc[1]\n",
        "\n",
        "# Question 3: Variable with the biggest mutual information score\n",
        "X = data_cleaned[['contact', 'education', 'housing', 'poutcome']].apply(lambda x: x.str.replace('\"', '').astype('category').cat.codes)\n",
        "y = data_cleaned['y'].str.replace('\"', '').astype('category').cat.codes\n",
        "mutual_info_scores = mutual_info_classif(X, y, discrete_features=True)\n",
        "mutual_info_series = pd.Series(mutual_info_scores, index=X.columns)\n",
        "biggest_mutual_info = mutual_info_series.idxmax()\n",
        "\n",
        "# Question 5: Feature with the smallest difference (range of values)\n",
        "feature_ranges = data_cleaned[['age', 'balance', 'previous']].apply(lambda x: x.max() - x.min())\n",
        "smallest_difference_feature = feature_ranges.idxmin()\n",
        "\n",
        "print(f\"1. Mode for 'education': {education_mode}\")\n",
        "print(f\"2. Biggest correlation: {biggest_correlation}\")\n",
        "print(f\"3. Variable with biggest mutual information score: {biggest_mutual_info}\")\n",
        "print(f\"5. Feature with smallest difference: {smallest_difference_feature}\")\n"
      ],
      "metadata": {
        "colab": {
          "base_uri": "https://localhost:8080/"
        },
        "id": "fvST38jSAECc",
        "outputId": "d55fc591-2d7f-4fb8-9738-07f2ffbf5f54"
      },
      "execution_count": 8,
      "outputs": [
        {
          "output_type": "stream",
          "name": "stdout",
          "text": [
            "1. Mode for 'education': secondary\n",
            "2. Biggest correlation: 0.4548196354805043\n",
            "3. Variable with biggest mutual information score: poutcome\n",
            "5. Feature with smallest difference: age\n"
          ]
        }
      ]
    }
  ]
}