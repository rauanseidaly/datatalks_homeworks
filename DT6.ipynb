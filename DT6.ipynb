import pandas as pd
import numpy as np
from sklearn.tree import DecisionTreeRegressor
from sklearn.ensemble import RandomForestRegressor
from sklearn.metrics import mean_squared_error
from sklearn.model_selection import train_test_split

# Load the data
data = pd.read_csv('jamb_exam_results.csv')  # Update with your file path

# Selecting relevant features and target variable
features = ['Study_Hours_Per_Week', 'Attendance_Rate', 'Teacher_Quality', 'Distance_To_School']
target = 'JAMB_Score'

# Splitting data into train and validation sets
X = data[features]
y = data[target]
X_train, X_val, y_train, y_val = train_test_split(X, y, test_size=0.2, random_state=1)

# Question 1: Decision Tree with max_depth=1
dt_regressor = DecisionTreeRegressor(max_depth=1, random_state=1)
dt_regressor.fit(X_train, y_train)
split_feature_index = dt_regressor.tree_.feature[0]
split_feature = features[split_feature_index]
print("Question 1 - Feature used for splitting:", split_feature)

# Question 2: Random Forest Regressor with specified parameters
rf_regressor = RandomForestRegressor(n_estimators=10, random_state=1, n_jobs=-1)
rf_regressor.fit(X_train, y_train)
y_pred_val = rf_regressor.predict(X_val)
rmse_q2 = np.sqrt(mean_squared_error(y_val, y_pred_val))
print("Question 2 - RMSE:", round(rmse_q2, 2))

# Question 3: Experiment with n_estimators from 10 to 200
rmse_scores = {}
for n in range(10, 210, 10):
    rf_regressor = RandomForestRegressor(n_estimators=n, random_state=1, n_jobs=-1)
    rf_regressor.fit(X_train, y_train)
    y_pred_val = rf_regressor.predict(X_val)
    rmse = np.sqrt(mean_squared_error(y_val, y_pred_val))
    rmse_scores[n] = rmse
print("Question 3 - RMSE scores by n_estimators:", rmse_scores)

# Question 4: Finding best max_depth with varying n_estimators
mean_rmse_scores = {}
for depth in [10, 15, 20, 25]:
    rmse_values = []
    for n in range(10, 210, 10):
        rf_regressor = RandomForestRegressor(n_estimators=n, max_depth=depth, random_state=1, n_jobs=-1)
        rf_regressor.fit(X_train, y_train)
        y_pred_val = rf_regressor.predict(X_val)
        rmse = np.sqrt(mean_squared_error(y_val, y_pred_val))
        rmse_values.append(rmse)
    mean_rmse_scores[depth] = np.mean(rmse_values)
print("Question 4 - Mean RMSE by max_depth:", mean_rmse_scores)

# Question 5: Most important feature from Random Forest
rf_regressor = RandomForestRegressor(n_estimators=10, max_depth=20, random_state=1, n_jobs=-1)
rf_regressor.fit(X_train, y_train)
importances = rf_regressor.feature_importances_
most_important_feature = features[np.argmax(importances)]
print("Question 5 - Most important feature:", most_important_feature)
