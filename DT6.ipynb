{
  "nbformat": 4,
  "nbformat_minor": 0,
  "metadata": {
    "colab": {
      "provenance": []
    },
    "kernelspec": {
      "name": "python3",
      "display_name": "Python 3"
    },
    "language_info": {
      "name": "python"
    }
  },
  "cells": [
    {
      "cell_type": "code",
      "execution_count": 1,
      "metadata": {
        "colab": {
          "base_uri": "https://localhost:8080/"
        },
        "id": "03NqIOQS4dIH",
        "outputId": "acbd46e7-45aa-4d8f-c591-d7b158636c90"
      },
      "outputs": [
        {
          "output_type": "stream",
          "name": "stdout",
          "text": [
            "Question 1 - Feature used for splitting: Study_Hours_Per_Week\n",
            "Question 2 - RMSE: 43.7\n",
            "Question 3 - RMSE scores by n_estimators: {10: 43.704090960305614, 20: 43.04851905048051, 30: 42.83364041831483, 40: 42.40820026967277, 50: 42.30824089577979, 60: 42.2257491649391, 70: 42.18014291181805, 80: 42.329709067987054, 90: 42.29325717041695, 100: 42.24103202803394, 110: 42.294431447078914, 120: 42.250345344590414, 130: 42.23354460116254, 140: 42.265737055977716, 150: 42.28150262943436, 160: 42.25470024749987, 170: 42.2304964478161, 180: 42.27740769665238, 190: 42.295158951616045, 200: 42.30277083880091}\n",
            "Question 4 - Mean RMSE by max_depth: {10: 41.194472318902584, 15: 41.964583666313686, 20: 42.383041078309674, 25: 42.4279517848748}\n",
            "Question 5 - Most important feature: Distance_To_School\n"
          ]
        }
      ],
      "source": [
        "import pandas as pd\n",
        "import numpy as np\n",
        "from sklearn.tree import DecisionTreeRegressor\n",
        "from sklearn.ensemble import RandomForestRegressor\n",
        "from sklearn.metrics import mean_squared_error\n",
        "from sklearn.model_selection import train_test_split\n",
        "\n",
        "# Load the data\n",
        "data = pd.read_csv('jamb_exam_results.csv')  # Update with your file path\n",
        "\n",
        "# Selecting relevant features and target variable\n",
        "features = ['Study_Hours_Per_Week', 'Attendance_Rate', 'Teacher_Quality', 'Distance_To_School']\n",
        "target = 'JAMB_Score'\n",
        "\n",
        "# Splitting data into train and validation sets\n",
        "X = data[features]\n",
        "y = data[target]\n",
        "X_train, X_val, y_train, y_val = train_test_split(X, y, test_size=0.2, random_state=1)\n",
        "\n",
        "# Question 1: Decision Tree with max_depth=1\n",
        "dt_regressor = DecisionTreeRegressor(max_depth=1, random_state=1)\n",
        "dt_regressor.fit(X_train, y_train)\n",
        "split_feature_index = dt_regressor.tree_.feature[0]\n",
        "split_feature = features[split_feature_index]\n",
        "print(\"Question 1 - Feature used for splitting:\", split_feature)\n",
        "\n",
        "# Question 2: Random Forest Regressor with specified parameters\n",
        "rf_regressor = RandomForestRegressor(n_estimators=10, random_state=1, n_jobs=-1)\n",
        "rf_regressor.fit(X_train, y_train)\n",
        "y_pred_val = rf_regressor.predict(X_val)\n",
        "rmse_q2 = np.sqrt(mean_squared_error(y_val, y_pred_val))\n",
        "print(\"Question 2 - RMSE:\", round(rmse_q2, 2))\n",
        "\n",
        "# Question 3: Experiment with n_estimators from 10 to 200\n",
        "rmse_scores = {}\n",
        "for n in range(10, 210, 10):\n",
        "    rf_regressor = RandomForestRegressor(n_estimators=n, random_state=1, n_jobs=-1)\n",
        "    rf_regressor.fit(X_train, y_train)\n",
        "    y_pred_val = rf_regressor.predict(X_val)\n",
        "    rmse = np.sqrt(mean_squared_error(y_val, y_pred_val))\n",
        "    rmse_scores[n] = rmse\n",
        "print(\"Question 3 - RMSE scores by n_estimators:\", rmse_scores)\n",
        "\n",
        "# Question 4: Finding best max_depth with varying n_estimators\n",
        "mean_rmse_scores = {}\n",
        "for depth in [10, 15, 20, 25]:\n",
        "    rmse_values = []\n",
        "    for n in range(10, 210, 10):\n",
        "        rf_regressor = RandomForestRegressor(n_estimators=n, max_depth=depth, random_state=1, n_jobs=-1)\n",
        "        rf_regressor.fit(X_train, y_train)\n",
        "        y_pred_val = rf_regressor.predict(X_val)\n",
        "        rmse = np.sqrt(mean_squared_error(y_val, y_pred_val))\n",
        "        rmse_values.append(rmse)\n",
        "    mean_rmse_scores[depth] = np.mean(rmse_values)\n",
        "print(\"Question 4 - Mean RMSE by max_depth:\", mean_rmse_scores)\n",
        "\n",
        "# Question 5: Most important feature from Random Forest\n",
        "rf_regressor = RandomForestRegressor(n_estimators=10, max_depth=20, random_state=1, n_jobs=-1)\n",
        "rf_regressor.fit(X_train, y_train)\n",
        "importances = rf_regressor.feature_importances_\n",
        "most_important_feature = features[np.argmax(importances)]\n",
        "print(\"Question 5 - Most important feature:\", most_important_feature)\n"
      ]
    },
    {
      "cell_type": "code",
      "source": [
        "import xgboost as xgb\n",
        "from sklearn.metrics import mean_squared_error\n",
        "\n",
        "# Preparing DMatrix for train and validation data\n",
        "dtrain = xgb.DMatrix(X_train, label=y_train)\n",
        "dval = xgb.DMatrix(X_val, label=y_val)\n",
        "\n",
        "# Watchlist for tracking training and validation error\n",
        "watchlist = [(dtrain, 'train'), (dval, 'eval')]\n",
        "\n",
        "# Function to train XGBoost with given eta and return RMSE\n",
        "def train_xgboost(eta_value):\n",
        "    xgb_params = {\n",
        "        'eta': eta_value,\n",
        "        'max_depth': 6,\n",
        "        'min_child_weight': 1,\n",
        "        'objective': 'reg:squarederror',\n",
        "        'nthread': 8,\n",
        "        'seed': 1,\n",
        "        'verbosity': 1\n",
        "    }\n",
        "    model = xgb.train(\n",
        "        xgb_params,\n",
        "        dtrain,\n",
        "        num_boost_round=100,\n",
        "        evals=watchlist,\n",
        "        early_stopping_rounds=10,\n",
        "        verbose_eval=False\n",
        "    )\n",
        "    # Predict and calculate RMSE on validation data\n",
        "    y_pred_val = model.predict(dval)\n",
        "    rmse = np.sqrt(mean_squared_error(y_val, y_pred_val))\n",
        "    return rmse\n",
        "\n",
        "# Training with eta = 0.3\n",
        "rmse_03 = train_xgboost(0.3)\n",
        "print(\"RMSE with eta=0.3:\", rmse_03)\n",
        "\n",
        "# Training with eta = 0.1\n",
        "rmse_01 = train_xgboost(0.1)\n",
        "print(\"RMSE with eta=0.1:\", rmse_01)\n",
        "\n",
        "# Determining the best eta\n",
        "if rmse_03 < rmse_01:\n",
        "    print(\"Best eta: 0.3\")\n",
        "elif rmse_01 < rmse_03:\n",
        "    print(\"Best eta: 0.1\")\n",
        "else:\n",
        "    print(\"Both eta values give equal RMSE\")\n"
      ],
      "metadata": {
        "colab": {
          "base_uri": "https://localhost:8080/"
        },
        "id": "__HUusxG5psI",
        "outputId": "ead03093-d144-48a1-88ab-a3f3aef15ce3"
      },
      "execution_count": 2,
      "outputs": [
        {
          "output_type": "stream",
          "name": "stdout",
          "text": [
            "RMSE with eta=0.3: 41.7023388950155\n",
            "RMSE with eta=0.1: 41.04660679062348\n",
            "Best eta: 0.1\n"
          ]
        }
      ]
    }
  ]
}